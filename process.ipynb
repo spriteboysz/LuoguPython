{
 "cells": [
  {
   "cell_type": "code",
   "id": "initial_id",
   "metadata": {
    "collapsed": true,
    "ExecuteTime": {
     "end_time": "2024-09-28T02:30:23.541261Z",
     "start_time": "2024-09-28T02:30:23.534362Z"
    }
   },
   "source": "print('hello')",
   "outputs": [
    {
     "name": "stdout",
     "output_type": "stream",
     "text": [
      "hello\n"
     ]
    }
   ],
   "execution_count": 2
  },
  {
   "metadata": {
    "ExecuteTime": {
     "end_time": "2024-09-28T02:32:51.938786Z",
     "start_time": "2024-09-28T02:32:51.931315Z"
    }
   },
   "cell_type": "code",
   "source": "print('hello')",
   "id": "8bc24d455bbd13fa",
   "outputs": [
    {
     "name": "stdout",
     "output_type": "stream",
     "text": [
      "hello\n"
     ]
    }
   ],
   "execution_count": 3
  },
  {
   "metadata": {},
   "cell_type": "code",
   "outputs": [],
   "execution_count": null,
   "source": "",
   "id": "df2eb1fd68b55d70"
  },
  {
   "metadata": {},
   "cell_type": "markdown",
   "source": "## ABC的使用\n",
   "id": "9c44d883ed24ca61"
  },
  {
   "metadata": {},
   "cell_type": "markdown",
   "source": "",
   "id": "afbce6b2610b918a"
  },
  {
   "metadata": {},
   "cell_type": "code",
   "outputs": [],
   "execution_count": null,
   "source": "",
   "id": "7789220d4daa7e5"
  },
  {
   "metadata": {},
   "cell_type": "markdown",
   "source": "",
   "id": "d99c3a8b71873583"
  }
 ],
 "metadata": {
  "kernelspec": {
   "display_name": "Python 3",
   "language": "python",
   "name": "python3"
  },
  "language_info": {
   "codemirror_mode": {
    "name": "ipython",
    "version": 2
   },
   "file_extension": ".py",
   "mimetype": "text/x-python",
   "name": "python",
   "nbconvert_exporter": "python",
   "pygments_lexer": "ipython2",
   "version": "2.7.6"
  }
 },
 "nbformat": 4,
 "nbformat_minor": 5
}
